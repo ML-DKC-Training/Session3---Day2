{
 "cells": [
  {
   "cell_type": "code",
   "execution_count": 1,
   "metadata": {},
   "outputs": [
    {
     "name": "stderr",
     "output_type": "stream",
     "text": [
      "Using TensorFlow backend.\n"
     ]
    }
   ],
   "source": [
    "import tensorflow as tf\n",
    "from tensorflow import keras\n",
    "import numpy as np\n",
    "from keras import datasets"
   ]
  },
  {
   "cell_type": "code",
   "execution_count": 2,
   "metadata": {},
   "outputs": [],
   "source": [
    "Dense = keras.layers.Dense"
   ]
  },
  {
   "cell_type": "code",
   "execution_count": 3,
   "metadata": {},
   "outputs": [],
   "source": [
    "# Hyper parameters\n",
    "\n",
    "batch_size = 128\n",
    "num_classes = 10\n",
    "epochs = 12"
   ]
  },
  {
   "cell_type": "code",
   "execution_count": 4,
   "metadata": {},
   "outputs": [],
   "source": [
    "# Loading the data\n",
    "(x_train, y_train), (x_test, y_test) = datasets.mnist.load_data()"
   ]
  },
  {
   "cell_type": "code",
   "execution_count": 5,
   "metadata": {},
   "outputs": [],
   "source": [
    "# Doing type conversion\n",
    "x_train = x_train.astype('float32')/255.\n",
    "x_test = x_test.astype('float32')/255.\n",
    "\n",
    "x_train = x_train.reshape(-1, 28*28)\n",
    "x_test = x_test.reshape(-1, 28*28)"
   ]
  },
  {
   "cell_type": "code",
   "execution_count": 6,
   "metadata": {},
   "outputs": [],
   "source": [
    "# Model definition\n",
    "\n",
    "inputs = keras.Input(shape=(28*28,))\n",
    "\n",
    "layer1 = keras.layers.Dense(512, activation='relu')(inputs)\n",
    "layer2 = keras.layers.Dense(256, activation='relu')(layer1)\n",
    "\n",
    "output = keras.layers.Dense(10, activation='softmax')(layer2)\n",
    "\n",
    "model = keras.Model(inputs=inputs, outputs=output)\n",
    "\n",
    "model.compile(optimizer=keras.optimizers.RMSprop(lr=1e-3), \n",
    "              loss=keras.losses.sparse_categorical_crossentropy, \n",
    "              metrics=['accuracy'])"
   ]
  },
  {
   "cell_type": "code",
   "execution_count": 9,
   "metadata": {},
   "outputs": [
    {
     "name": "stdout",
     "output_type": "stream",
     "text": [
      "_________________________________________________________________\n",
      "Layer (type)                 Output Shape              Param #   \n",
      "=================================================================\n",
      "input_1 (InputLayer)         (None, 784)               0         \n",
      "_________________________________________________________________\n",
      "dense (Dense)                (None, 512)               401920    \n",
      "_________________________________________________________________\n",
      "dense_1 (Dense)              (None, 256)               131328    \n",
      "_________________________________________________________________\n",
      "dense_2 (Dense)              (None, 10)                2570      \n",
      "=================================================================\n",
      "Total params: 535,818\n",
      "Trainable params: 535,818\n",
      "Non-trainable params: 0\n",
      "_________________________________________________________________\n"
     ]
    }
   ],
   "source": [
    "model.summary()"
   ]
  },
  {
   "cell_type": "code",
   "execution_count": 7,
   "metadata": {},
   "outputs": [
    {
     "name": "stdout",
     "output_type": "stream",
     "text": [
      "Train on 60000 samples, validate on 10000 samples\n",
      "Epoch 1/12\n",
      "60000/60000 [==============================] - 3s 52us/step - loss: 0.2259 - acc: 0.9309 - val_loss: 0.1218 - val_acc: 0.9632\n",
      "Epoch 2/12\n",
      "60000/60000 [==============================] - 3s 49us/step - loss: 0.0836 - acc: 0.9740 - val_loss: 0.0820 - val_acc: 0.9750\n",
      "Epoch 3/12\n",
      "60000/60000 [==============================] - 3s 49us/step - loss: 0.0543 - acc: 0.9833 - val_loss: 0.0848 - val_acc: 0.9746\n",
      "Epoch 4/12\n",
      "60000/60000 [==============================] - 3s 49us/step - loss: 0.0398 - acc: 0.9876 - val_loss: 0.0801 - val_acc: 0.9787\n",
      "Epoch 5/12\n",
      "60000/60000 [==============================] - 3s 49us/step - loss: 0.0302 - acc: 0.9911 - val_loss: 0.0683 - val_acc: 0.9804\n",
      "Epoch 6/12\n",
      "60000/60000 [==============================] - 3s 49us/step - loss: 0.0241 - acc: 0.9924 - val_loss: 0.0777 - val_acc: 0.9807\n",
      "Epoch 7/12\n",
      "60000/60000 [==============================] - 3s 49us/step - loss: 0.0170 - acc: 0.9948 - val_loss: 0.0941 - val_acc: 0.9794\n",
      "Epoch 8/12\n",
      "60000/60000 [==============================] - 3s 49us/step - loss: 0.0155 - acc: 0.9951 - val_loss: 0.0826 - val_acc: 0.9815\n",
      "Epoch 9/12\n",
      "60000/60000 [==============================] - 3s 50us/step - loss: 0.0118 - acc: 0.9964 - val_loss: 0.1015 - val_acc: 0.9802\n",
      "Epoch 10/12\n",
      "60000/60000 [==============================] - 3s 49us/step - loss: 0.0090 - acc: 0.9970 - val_loss: 0.1027 - val_acc: 0.9813\n",
      "Epoch 11/12\n",
      "60000/60000 [==============================] - 3s 50us/step - loss: 0.0098 - acc: 0.9967 - val_loss: 0.0972 - val_acc: 0.9825\n",
      "Epoch 12/12\n",
      "60000/60000 [==============================] - 3s 50us/step - loss: 0.0077 - acc: 0.9975 - val_loss: 0.1155 - val_acc: 0.9821\n"
     ]
    },
    {
     "data": {
      "text/plain": [
       "<tensorflow.python.keras.callbacks.History at 0x7f0881898450>"
      ]
     },
     "execution_count": 7,
     "metadata": {},
     "output_type": "execute_result"
    }
   ],
   "source": [
    "# Training the model\n",
    "\n",
    "model.fit(x_train, y_train, batch_size=batch_size, epochs=epochs, verbose=1, validation_data=(x_test, y_test))"
   ]
  },
  {
   "cell_type": "code",
   "execution_count": 8,
   "metadata": {},
   "outputs": [
    {
     "name": "stdout",
     "output_type": "stream",
     "text": [
      "Test Loss: 0.11545918032497429\n",
      "Test Accuracy: 0.9821\n"
     ]
    }
   ],
   "source": [
    "# Evaluation of the score\n",
    "score = model.evaluate(x_test, y_test, verbose=0)\n",
    "print 'Test Loss:', score[0]\n",
    "print 'Test Accuracy:', score[1]"
   ]
  }
 ],
 "metadata": {
  "kernelspec": {
   "display_name": "Python 2",
   "language": "python",
   "name": "python2"
  },
  "language_info": {
   "codemirror_mode": {
    "name": "ipython",
    "version": 2
   },
   "file_extension": ".py",
   "mimetype": "text/x-python",
   "name": "python",
   "nbconvert_exporter": "python",
   "pygments_lexer": "ipython2",
   "version": "2.7.15rc1"
  }
 },
 "nbformat": 4,
 "nbformat_minor": 2
}
